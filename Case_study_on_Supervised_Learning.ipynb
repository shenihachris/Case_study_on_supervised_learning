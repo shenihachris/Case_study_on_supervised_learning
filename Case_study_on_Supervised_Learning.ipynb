{
 "cells": [
  {
   "cell_type": "markdown",
   "id": "0898be54-87e6-4cd9-aa01-5c373aaefdc5",
   "metadata": {},
   "source": [
    "**Case study on Supervised Learning**"
   ]
  },
  {
   "cell_type": "markdown",
   "id": "c64309a0-5080-4f53-a906-2dc6e030b36f",
   "metadata": {},
   "source": [
    "Dataset Description:\n",
    "You are provided with a dataset (heart_disease.csv) containing the following columns:\n",
    "\n",
    "age: Age of the individual\n",
    "\n",
    "sex: Gender of the individual (0 = female, 1a= male)\n",
    "\n",
    "chest pain type: Type of chest pain (4 categories: 0-3)\n",
    "\n",
    "resting blood pressure: Resting blood pressure (in mm Hg)\n",
    "\n",
    "serum cholesterol: Cholesterol level (in mg/dl)\n",
    "\n",
    "fasting blood sugar: Fasting blood sugar > 120 mg/dl (1 = true, 0 = false)\n",
    "\n",
    "resting electrocardiographic results: ECG results (0 = normal, 1 = ST-T abnormality, 2 = probable/definite left ventricular hypertrophy)\n",
    "\n",
    "maximum heart rate achieved\n",
    "\n",
    "exercise induced angina: Exercise-induced chest pain (1 = yes, 0 = no)\n",
    "\n",
    "oldpeak: ST depression induced by exercise relative to rest\n",
    "\n",
    "slope: The slope of the peak exercise ST segment (0-2)\n",
    "\n",
    "number of major vessels: Number of major vessels (0-3) colored by fluoroscopy\n",
    "\n",
    "thal: Type of thalassemia (0 = normal, 1 = fixed defect, 2 = reversible defect)\n",
    "\n",
    "target: Presence of heart disease (1 = Yes, 0 = No)\n"
   ]
  },
  {
   "cell_type": "markdown",
   "id": "dd097743-086e-40fd-b20c-9a3325b45921",
   "metadata": {},
   "source": [
    "**Step 1: Load and Explore the Data**\n",
    "Load the dataset into a Pandas DataFrame.\n",
    "Perform exploratory data analysis (EDA):\n",
    "Check for missing values, data types, and summary statistics.\n",
    "Identify potential outliers in numerical columns.\n",
    "Analyze the distribution of categorical variables."
   ]
  },
  {
   "cell_type": "markdown",
   "id": "72eb42dd-013c-4c33-b663-14f288f45e46",
   "metadata": {},
   "source": [
    "**Load dataset**"
   ]
  },
  {
   "cell_type": "code",
   "execution_count": 1,
   "id": "32275f00-e7be-441d-b304-d69fa260f934",
   "metadata": {},
   "outputs": [
    {
     "name": "stdout",
     "output_type": "stream",
     "text": [
      "   age  sex  cp  trestbps  chol  fbs  restecg  thalach  exang  oldpeak  slope  \\\n",
      "0   52    1   0       125   212    0        1      168      0      1.0      2   \n",
      "1   53    1   0       140   203    1        0      155      1      3.1      0   \n",
      "2   70    1   0       145   174    0        1      125      1      2.6      0   \n",
      "3   61    1   0       148   203    0        1      161      0      0.0      2   \n",
      "4   62    0   0       138   294    1        1      106      0      1.9      1   \n",
      "\n",
      "   ca  thal  target  \n",
      "0   2     3       0  \n",
      "1   0     3       0  \n",
      "2   0     3       0  \n",
      "3   1     3       0  \n",
      "4   3     2       0  \n"
     ]
    }
   ],
   "source": [
    "import pandas as pd\n",
    "file_path = 'heart_disease.csv'\n",
    "df = pd.read_csv(file_path)\n",
    "\n",
    "print(df.head())\n"
   ]
  },
  {
   "cell_type": "markdown",
   "id": "cf04b180-7142-4bd8-a9d9-549e17890e32",
   "metadata": {},
   "source": [
    "**Check for missing value**"
   ]
  },
  {
   "cell_type": "code",
   "execution_count": 2,
   "id": "d4e010d7-fc00-4a8c-8fd1-6e324c5619c9",
   "metadata": {},
   "outputs": [
    {
     "name": "stdout",
     "output_type": "stream",
     "text": [
      "age         0\n",
      "sex         0\n",
      "cp          0\n",
      "trestbps    0\n",
      "chol        0\n",
      "fbs         0\n",
      "restecg     0\n",
      "thalach     0\n",
      "exang       0\n",
      "oldpeak     0\n",
      "slope       0\n",
      "ca          0\n",
      "thal        0\n",
      "target      0\n",
      "dtype: int64\n"
     ]
    }
   ],
   "source": [
    "print(df.isnull().sum())\n"
   ]
  },
  {
   "cell_type": "markdown",
   "id": "df8b2171-9b9c-47bd-bdb8-fb6898c8274e",
   "metadata": {},
   "source": [
    "**Examine datatype**"
   ]
  },
  {
   "cell_type": "code",
   "execution_count": 3,
   "id": "fa4e4fb6-30b2-40d7-b4d5-7c9a849caabf",
   "metadata": {
    "scrolled": true
   },
   "outputs": [
    {
     "name": "stdout",
     "output_type": "stream",
     "text": [
      "age           int64\n",
      "sex           int64\n",
      "cp            int64\n",
      "trestbps      int64\n",
      "chol          int64\n",
      "fbs           int64\n",
      "restecg       int64\n",
      "thalach       int64\n",
      "exang         int64\n",
      "oldpeak     float64\n",
      "slope         int64\n",
      "ca            int64\n",
      "thal          int64\n",
      "target        int64\n",
      "dtype: object\n"
     ]
    }
   ],
   "source": [
    "\n",
    "print(df.dtypes)\n"
   ]
  },
  {
   "cell_type": "markdown",
   "id": "d31bdbf3-3f11-41dc-b8ac-90c18eb64498",
   "metadata": {},
   "source": [
    "**Summary Statistics**"
   ]
  },
  {
   "cell_type": "code",
   "execution_count": 4,
   "id": "00a30b06-9efa-4299-b267-9406e1cdccb6",
   "metadata": {
    "scrolled": true
   },
   "outputs": [
    {
     "name": "stdout",
     "output_type": "stream",
     "text": [
      "               age          sex           cp     trestbps        chol  \\\n",
      "count  1025.000000  1025.000000  1025.000000  1025.000000  1025.00000   \n",
      "mean     54.434146     0.695610     0.942439   131.611707   246.00000   \n",
      "std       9.072290     0.460373     1.029641    17.516718    51.59251   \n",
      "min      29.000000     0.000000     0.000000    94.000000   126.00000   \n",
      "25%      48.000000     0.000000     0.000000   120.000000   211.00000   \n",
      "50%      56.000000     1.000000     1.000000   130.000000   240.00000   \n",
      "75%      61.000000     1.000000     2.000000   140.000000   275.00000   \n",
      "max      77.000000     1.000000     3.000000   200.000000   564.00000   \n",
      "\n",
      "               fbs      restecg      thalach        exang      oldpeak  \\\n",
      "count  1025.000000  1025.000000  1025.000000  1025.000000  1025.000000   \n",
      "mean      0.149268     0.529756   149.114146     0.336585     1.071512   \n",
      "std       0.356527     0.527878    23.005724     0.472772     1.175053   \n",
      "min       0.000000     0.000000    71.000000     0.000000     0.000000   \n",
      "25%       0.000000     0.000000   132.000000     0.000000     0.000000   \n",
      "50%       0.000000     1.000000   152.000000     0.000000     0.800000   \n",
      "75%       0.000000     1.000000   166.000000     1.000000     1.800000   \n",
      "max       1.000000     2.000000   202.000000     1.000000     6.200000   \n",
      "\n",
      "             slope           ca         thal       target  \n",
      "count  1025.000000  1025.000000  1025.000000  1025.000000  \n",
      "mean      1.385366     0.754146     2.323902     0.513171  \n",
      "std       0.617755     1.030798     0.620660     0.500070  \n",
      "min       0.000000     0.000000     0.000000     0.000000  \n",
      "25%       1.000000     0.000000     2.000000     0.000000  \n",
      "50%       1.000000     0.000000     2.000000     1.000000  \n",
      "75%       2.000000     1.000000     3.000000     1.000000  \n",
      "max       2.000000     4.000000     3.000000     1.000000  \n"
     ]
    }
   ],
   "source": [
    "print(df.describe())\n"
   ]
  },
  {
   "cell_type": "markdown",
   "id": "9583b612-bb7e-4c40-add7-355d4865df4a",
   "metadata": {},
   "source": [
    "**Identify potential outliers**"
   ]
  },
  {
   "cell_type": "code",
   "execution_count": 16,
   "id": "f9b7c581-0419-43be-b038-0af9be60b663",
   "metadata": {
    "scrolled": true
   },
   "outputs": [
    {
     "data": {
      "image/png": "[encoded data removed]",
      "text/plain": [
       "<Figure size 600x400 with 1 Axes>"
      ]
     },
     "metadata": {},
     "output_type": "display_data"
    },
    {
     "data": {
      "image/png": "[encoded data removed]",
      "text/plain": [
       "<Figure size 600x400 with 1 Axes>"
      ]
     },
     "metadata": {},
     "output_type": "display_data"
    },
    {
     "data": {
      "image/png": "[encoded data removed]",
      "text/plain": [
       "<Figure size 600x400 with 1 Axes>"
      ]
     },
     "metadata": {},
     "output_type": "display_data"
    },
    {
     "data": {
      "image/png": "[encoded data removed]",
      "text/plain": [
       "<Figure size 600x400 with 1 Axes>"
      ]
     },
     "metadata": {},
     "output_type": "display_data"
    },
    {
     "data": {
      "image/png": "[encoded data removed]",
      "text/plain": [
       "<Figure size 600x400 with 1 Axes>"
      ]
     },
     "metadata": {},
     "output_type": "display_data"
    }
   ],
   "source": [
    "import matplotlib.pyplot as plt\n",
    "import seaborn as sns\n",
    "\n",
    "numerical_columns = ['age', 'trestbps', 'chol', 'thalach', 'oldpeak']  \n",
    "\n",
    "for column in numerical_columns:\n",
    "    plt.figure(figsize=(6, 4))\n",
    "    sns.boxplot(x=df[column])  \n",
    "    plt.title(f'Boxplot of {column}')\n",
    "    plt.show()\n",
    "\n"
   ]
  },
  {
   "cell_type": "markdown",
   "id": "57f194de-0bf1-46ab-8a92-d398fd6a9b7c",
   "metadata": {},
   "source": [
    "**Analyze Categorical Variable Distributions**"
   ]
  },
  {
   "cell_type": "code",
   "execution_count": 13,
   "id": "8755ce1a-3cc4-4207-a524-7cfd15df3617",
   "metadata": {},
   "outputs": [
    {
     "name": "stdout",
     "output_type": "stream",
     "text": [
      "Index(['age', 'sex', 'cp', 'trestbps', 'chol', 'fbs', 'restecg', 'thalach',\n",
      "       'exang', 'oldpeak', 'slope', 'ca', 'thal', 'target'],\n",
      "      dtype='object')\n"
     ]
    }
   ],
   "source": [
    "print(df.columns)\n"
   ]
  },
  {
   "cell_type": "code",
   "execution_count": 14,
   "id": "58516738-752b-42db-925b-7bcafa27e5de",
   "metadata": {},
   "outputs": [
    {
     "data": {
      "image/png": "[encoded data removed]",
      "text/plain": [
       "<Figure size 800x400 with 1 Axes>"
      ]
     },
     "metadata": {},
     "output_type": "display_data"
    },
    {
     "data": {
      "image/png": "[encoded data removed]",
      "text/plain": [
       "<Figure size 800x400 with 1 Axes>"
      ]
     },
     "metadata": {},
     "output_type": "display_data"
    },
    {
     "data": {
      "image/png": "[encoded data removed]",
      "text/plain": [
       "<Figure size 800x400 with 1 Axes>"
      ]
     },
     "metadata": {},
     "output_type": "display_data"
    },
    {
     "data": {
      "image/png": "[encoded data removed]",
      "text/plain": [
       "<Figure size 800x400 with 1 Axes>"
      ]
     },
     "metadata": {},
     "output_type": "display_data"
    },
    {
     "data": {
      "image/png": "[encoded data removed]",
      "text/plain": [
       "<Figure size 800x400 with 1 Axes>"
      ]
     },
     "metadata": {},
     "output_type": "display_data"
    },
    {
     "data": {
      "image/png": "[encoded data removed]",
      "text/plain": [
       "<Figure size 800x400 with 1 Axes>"
      ]
     },
     "metadata": {},
     "output_type": "display_data"
    },
    {
     "data": {
      "image/png": "[encoded data removed]",
      "text/plain": [
       "<Figure size 800x400 with 1 Axes>"
      ]
     },
     "metadata": {},
     "output_type": "display_data"
    },
    {
     "data": {
      "image/png": "[encoded data removed]",
      "text/plain": [
       "<Figure size 800x400 with 1 Axes>"
      ]
     },
     "metadata": {},
     "output_type": "display_data"
    }
   ],
   "source": [
    "categorical_cols = ['sex', 'cp', 'fbs', 'restecg', 'exang', 'slope', 'ca', 'thal']\n",
    "\n",
    "for col in categorical_cols:\n",
    "    plt.figure(figsize=(8, 4))\n",
    "    sns.countplot(x=df[col])\n",
    "    plt.title(f'Distribution of {col}')\n",
    "    plt.show()\n",
    "\n"
   ]
  },
  {
   "cell_type": "markdown",
   "id": "81bcc5ec-6714-47e8-84f3-9bd982c5ada7",
   "metadata": {},
   "source": [
    "\n",
    "**Step 2: Data Cleaning and Preprocessing**\n",
    "Handle Missing Values (if needed):\n",
    "\n",
    "Replace missing numerical values with the mean/median.\n",
    "Replace missing categorical values with the mode.\n",
    "Handle Outliers (if needed):\n",
    "\n",
    "Use appropriate methods (e.g., IQR or z-score) to detect and handle outliers.\n",
    "Encode Categorical Variables:\n",
    "\n",
    "Use one-hot encoding for multi-category variables (chest pain type, resting electrocardiographic results, thal).\n",
    "Use binary encoding for sex and fasting blood sugar.\n",
    "Scale Numerical Features:\n",
    "\n",
    "Scale features such as resting blood pressure, serum cholesterol, maximum heart rate, and oldpeak using StandardScaler or MinMaxScaler."
   ]
  },
  {
   "cell_type": "markdown",
   "id": "52399728-5f9c-46b7-a6e3-28da0314ceca",
   "metadata": {},
   "source": [
    "**Handle Missing Values**"
   ]
  },
  {
   "cell_type": "code",
   "execution_count": 33,
   "id": "47bb03dd-17cb-4f07-a14a-11ff31deddfe",
   "metadata": {
    "scrolled": true
   },
   "outputs": [],
   "source": [
    "numerical_columns = ['age', 'trestbps', 'chol', 'thalach', 'oldpeak']\n",
    "for col in numerical_columns:\n",
    "    df[col] = df[col].fillna(df[col].mean()) \n",
    "categorical_columns = ['cp_1', 'cp_2', 'cp_3', 'restecg_1', 'restecg_2', 'thal_1', 'thal_2', 'thal_3', 'sex', 'fbs']\n",
    "\n",
    "for col in categorical_columns:\n",
    "    df[col] = df[col].fillna(df[col].mode()[0])"
   ]
  },
  {
   "cell_type": "markdown",
   "id": "aa5f21d8-e1c9-4426-8f4f-06506d662060",
   "metadata": {},
   "source": [
    "**Handle outliers**"
   ]
  },
  {
   "cell_type": "code",
   "execution_count": 34,
   "id": "43e28ff3-5ff8-4fd9-aadd-610e3a40dc17",
   "metadata": {},
   "outputs": [],
   "source": [
    "for col in numerical_columns:\n",
    "    Q1 = df[col].quantile(0.25)\n",
    "    Q3 = df[col].quantile(0.75)\n",
    "    IQR = Q3 - Q1\n",
    "    lower_bound = Q1 - 1.5 * IQR\n",
    "    upper_bound = Q3 + 1.5 * IQR\n",
    "    df[col] = df[col].apply(lambda x: upper_bound if x > upper_bound else (lower_bound if x < lower_bound else x))\n"
   ]
  },
  {
   "cell_type": "markdown",
   "id": "68886ef3-f9dc-4839-a632-537bc2e9f7b2",
   "metadata": {},
   "source": [
    "**Encode Categorical Variables**"
   ]
  },
  {
   "cell_type": "code",
   "execution_count": 35,
   "id": "25c0b3f1-6477-415e-9f08-e986eb505472",
   "metadata": {},
   "outputs": [],
   "source": [
    "df = pd.get_dummies(df, columns=['sex', 'fbs'], drop_first=True)  # Exclude already encoded columns\n"
   ]
  },
  {
   "cell_type": "code",
   "execution_count": 38,
   "id": "c4c80979-1255-4e21-b8ea-5b2b0d4383ef",
   "metadata": {},
   "outputs": [],
   "source": [
    "df['sex_1'] = df['sex_1'].map({0: 0, 1: 1})\n",
    "df['fbs_1'] = df['fbs_1'].map({0: 0, 1: 1})\n"
   ]
  },
  {
   "cell_type": "markdown",
   "id": "830eb5e5-004f-4c8a-8742-e50e3ef0788d",
   "metadata": {},
   "source": [
    "**Scale Numerical Features**"
   ]
  },
  {
   "cell_type": "code",
   "execution_count": 39,
   "id": "8e657dc8-c47f-42e0-9747-f9bd6a9387b9",
   "metadata": {},
   "outputs": [],
   "source": [
    "from sklearn.preprocessing import StandardScaler\n",
    "\n",
    "scaler = StandardScaler()\n",
    "scaled_columns = ['trestbps', 'chol', 'thalach', 'oldpeak']\n",
    "df[scaled_columns] = scaler.fit_transform(df[scaled_columns])\n"
   ]
  },
  {
   "cell_type": "markdown",
   "id": "5a85dadf-4f85-4ba0-b2e9-124c0010349d",
   "metadata": {},
   "source": [
    "**Step 3: Train-Test Split**\n",
    "Split the data into training and testing sets:\n",
    "For Regression: Predict serum cholesterol as the target variable.\n",
    "For Classification: Predict target (presence of heart disease) as the target variable.\n"
   ]
  },
  {
   "cell_type": "code",
   "execution_count": 40,
   "id": "27eabfeb-c306-4b4a-9065-4a7d3c2595c9",
   "metadata": {},
   "outputs": [
    {
     "name": "stdout",
     "output_type": "stream",
     "text": [
      "Train-Test Split Completed!\n"
     ]
    }
   ],
   "source": [
    "from sklearn.model_selection import train_test_split\n",
    "\n",
    "# Regression\n",
    "X_reg = df.drop(columns=['chol'])  \n",
    "y_reg = df['chol']  \n",
    "\n",
    "X_train_reg, X_test_reg, y_train_reg, y_test_reg = train_test_split(X_reg, y_reg, test_size=0.2, random_state=42)\n",
    "\n",
    "# Classification\n",
    "X_class = df.drop(columns=['target']) \n",
    "y_class = df['target']  \n",
    "\n",
    "X_train_class, X_test_class, y_train_class, y_test_class = train_test_split(X_class, y_class, test_size=0.2, random_state=42)\n",
    "\n",
    "print(\"Train-Test Split Completed!\")\n"
   ]
  },
  {
   "cell_type": "markdown",
   "id": "4ce3eed2-23a8-43dd-bf8b-efb5d4a948ea",
   "metadata": {},
   "source": [
    "**Step 4: Build Machine Learning Models**\n",
    "Regression Task:\n",
    "\n",
    "Train a Linear Regression model to predict serum cholesterol.\n",
    "Classification Task:\n",
    "\n",
    "Train the following models to predict target:\n",
    "Logistic Regression\n",
    "K-Nearest Neighbors (KNN)\n",
    "Naive Bayes"
   ]
  },
  {
   "cell_type": "code",
   "execution_count": 46,
   "id": "bca22e8b-58e7-4bb6-af58-6071340e80de",
   "metadata": {},
   "outputs": [],
   "source": [
    "df = df.drop(columns=['sex_1', 'fbs_1'], errors='ignore')\n"
   ]
  },
  {
   "cell_type": "code",
   "execution_count": 47,
   "id": "f44ca4cd-f1bd-4819-8d70-4f1739c66a6c",
   "metadata": {},
   "outputs": [],
   "source": [
    "imputer = SimpleImputer(strategy='most_frequent')\n",
    "X_train_reg = imputer.fit_transform(X_train_reg)\n",
    "X_test_reg = imputer.transform(X_test_reg)\n"
   ]
  },
  {
   "cell_type": "code",
   "execution_count": 49,
   "id": "58a61238-7327-4f8d-84f9-8f56d0845a0d",
   "metadata": {},
   "outputs": [
    {
     "name": "stdout",
     "output_type": "stream",
     "text": [
      "Linear Regression MAE: 0.8206\n",
      "Linear Regression MSE: 1.0574\n"
     ]
    }
   ],
   "source": [
    "import pandas as pd\n",
    "from sklearn.model_selection import train_test_split\n",
    "from sklearn.linear_model import LinearRegression\n",
    "from sklearn.impute import SimpleImputer\n",
    "from sklearn.metrics import mean_absolute_error, mean_squared_error\n",
    "\n",
    "if 'chol' not in df.columns:\n",
    "    raise ValueError(\"Column 'chol' is missing from the DataFrame.\")\n",
    "\n",
    "X_reg = df.drop(columns=['chol'])\n",
    "y_reg = df['chol']\n",
    "\n",
    "X_train_reg, X_test_reg, y_train_reg, y_test_reg = train_test_split(X_reg, y_reg, test_size=0.2, random_state=42)\n",
    "\n",
    "imputer = SimpleImputer(strategy='mean')\n",
    "X_train_reg = imputer.fit_transform(X_train_reg)\n",
    "X_test_reg = imputer.transform(X_test_reg)\n",
    "\n",
    "lin_reg = LinearRegression()\n",
    "lin_reg.fit(X_train_reg, y_train_reg)\n",
    "\n",
    "y_pred_reg = lin_reg.predict(X_test_reg)\n",
    "\n",
    "mae = mean_absolute_error(y_test_reg, y_pred_reg)\n",
    "mse = mean_squared_error(y_test_reg, y_pred_reg)\n",
    "\n",
    "print(f\"Linear Regression MAE: {mae:.4f}\")\n",
    "print(f\"Linear Regression MSE: {mse:.4f}\")\n",
    "\n"
   ]
  },
  {
   "cell_type": "code",
   "execution_count": 51,
   "id": "6a818253-e2e4-414d-b1d9-a8f75342fb0b",
   "metadata": {},
   "outputs": [],
   "source": [
    "import pandas as pd\n",
    "import numpy as np\n",
    "from sklearn.model_selection import train_test_split\n",
    "from sklearn.linear_model import LinearRegression, LogisticRegression\n",
    "from sklearn.impute import SimpleImputer\n",
    "from sklearn.metrics import mean_absolute_error, mean_squared_error, accuracy_score\n",
    "from sklearn.neighbors import KNeighborsClassifier\n",
    "from sklearn.naive_bayes import GaussianNB\n"
   ]
  },
  {
   "cell_type": "code",
   "execution_count": 52,
   "id": "67130b3a-9f96-4b88-9a90-66bfcecfcea3",
   "metadata": {},
   "outputs": [
    {
     "name": "stdout",
     "output_type": "stream",
     "text": [
      "Columns in dataset: Index(['age', 'trestbps', 'chol', 'thalach', 'exang', 'oldpeak', 'slope', 'ca',\n",
      "       'target', 'cp_1', 'cp_2', 'cp_3', 'restecg_1', 'restecg_2', 'thal_1',\n",
      "       'thal_2', 'thal_3'],\n",
      "      dtype='object')\n",
      "Remaining missing values:\n",
      " age          0\n",
      "trestbps     0\n",
      "chol         0\n",
      "thalach      0\n",
      "exang        0\n",
      "oldpeak      0\n",
      "slope        0\n",
      "ca           0\n",
      "target       0\n",
      "cp_1         0\n",
      "cp_2         0\n",
      "cp_3         0\n",
      "restecg_1    0\n",
      "restecg_2    0\n",
      "thal_1       0\n",
      "thal_2       0\n",
      "thal_3       0\n",
      "dtype: int64\n"
     ]
    }
   ],
   "source": [
    "print(\"Columns in dataset:\", df.columns)\n",
    "\n",
    "categorical_cols = ['sex_1', 'fbs_1']  \n",
    "for col in categorical_cols:\n",
    "    if col in df.columns:\n",
    "        df[col] = df[col].fillna(df[col].mode()[0])\n",
    "\n",
    "df = df.dropna(axis=1, how='all')\n",
    "\n",
    "print(\"Remaining missing values:\\n\", df.isna().sum())\n"
   ]
  },
  {
   "cell_type": "code",
   "execution_count": 53,
   "id": "4b86493a-5b66-4e95-9dff-1ff44da2e63a",
   "metadata": {},
   "outputs": [],
   "source": [
    "X_reg = df.drop(columns=['chol'])\n",
    "y_reg = df['chol']\n",
    "X_train_reg, X_test_reg, y_train_reg, y_test_reg = train_test_split(X_reg, y_reg, test_size=0.2, random_state=42)\n",
    "\n",
    "X_class = df.drop(columns=['target'])\n",
    "y_class = df['target']\n",
    "X_train_class, X_test_class, y_train_class, y_test_class = train_test_split(X_class, y_class, test_size=0.2, random_state=42)\n"
   ]
  },
  {
   "cell_type": "code",
   "execution_count": 54,
   "id": "c7db998a-cdb2-4bf0-8037-861336c85565",
   "metadata": {},
   "outputs": [],
   "source": [
    "imputer = SimpleImputer(strategy='mean')\n",
    "\n",
    "X_train_reg = imputer.fit_transform(X_train_reg)\n",
    "X_test_reg = imputer.transform(X_test_reg)\n",
    "\n",
    "X_train_class = imputer.fit_transform(X_train_class)\n",
    "X_test_class = imputer.transform(X_test_class)\n",
    "\n",
    "X_train_reg = pd.DataFrame(X_train_reg, columns=df.drop(columns=['chol']).columns)\n",
    "X_test_reg = pd.DataFrame(X_test_reg, columns=df.drop(columns=['chol']).columns)\n",
    "X_train_class = pd.DataFrame(X_train_class, columns=df.drop(columns=['target']).columns)\n",
    "X_test_class = pd.DataFrame(X_test_class, columns=df.drop(columns=['target']).columns)\n"
   ]
  },
  {
   "cell_type": "code",
   "execution_count": 55,
   "id": "b4548c09-13aa-4fea-a364-ff022c72673f",
   "metadata": {},
   "outputs": [
    {
     "name": "stdout",
     "output_type": "stream",
     "text": [
      "Linear Regression MAE: 0.8206\n",
      "Linear Regression MSE: 1.0574\n"
     ]
    }
   ],
   "source": [
    "lin_reg = LinearRegression()\n",
    "lin_reg.fit(X_train_reg, y_train_reg)\n",
    "\n",
    "y_pred_reg = lin_reg.predict(X_test_reg)\n",
    "\n",
    "mae = mean_absolute_error(y_test_reg, y_pred_reg)\n",
    "mse = mean_squared_error(y_test_reg, y_pred_reg)\n",
    "\n",
    "print(f\"Linear Regression MAE: {mae:.4f}\")\n",
    "print(f\"Linear Regression MSE: {mse:.4f}\")\n"
   ]
  },
  {
   "cell_type": "code",
   "execution_count": 56,
   "id": "e0052b1a-97cc-4d13-80c6-74ee37b9e5b0",
   "metadata": {},
   "outputs": [
    {
     "name": "stderr",
     "output_type": "stream",
     "text": [
      "C:\\Users\\sheni\\AppData\\Local\\Programs\\Python\\Python313\\Lib\\site-packages\\sklearn\\linear_model\\_logistic.py:465: ConvergenceWarning: lbfgs failed to converge (status=1):\n",
      "STOP: TOTAL NO. OF ITERATIONS REACHED LIMIT.\n",
      "\n",
      "Increase the number of iterations (max_iter) or scale the data as shown in:\n",
      "    https://scikit-learn.org/stable/modules/preprocessing.html\n",
      "Please also refer to the documentation for alternative solver options:\n",
      "    https://scikit-learn.org/stable/modules/linear_model.html#logistic-regression\n",
      "  n_iter_i = _check_optimize_result(\n"
     ]
    },
    {
     "name": "stdout",
     "output_type": "stream",
     "text": [
      "Logistic Regression Accuracy: 0.8098\n",
      "KNN Accuracy: 0.8146\n",
      "Naive Bayes Accuracy: 0.8098\n"
     ]
    }
   ],
   "source": [
    "log_reg = LogisticRegression()\n",
    "knn = KNeighborsClassifier(n_neighbors=5)\n",
    "nb = GaussianNB()\n",
    "\n",
    "# Train models\n",
    "log_reg.fit(X_train_class, y_train_class)\n",
    "knn.fit(X_train_class, y_train_class)\n",
    "nb.fit(X_train_class, y_train_class)\n",
    "\n",
    "# Make predictions\n",
    "y_pred_log = log_reg.predict(X_test_class)\n",
    "y_pred_knn = knn.predict(X_test_class)\n",
    "y_pred_nb = nb.predict(X_test_class)\n",
    "\n",
    "# Evaluate Classification Models\n",
    "log_accuracy = accuracy_score(y_test_class, y_pred_log)\n",
    "knn_accuracy = accuracy_score(y_test_class, y_pred_knn)\n",
    "nb_accuracy = accuracy_score(y_test_class, y_pred_nb)\n",
    "\n",
    "print(f\"Logistic Regression Accuracy: {log_accuracy:.4f}\")\n",
    "print(f\"KNN Accuracy: {knn_accuracy:.4f}\")\n",
    "print(f\"Naive Bayes Accuracy: {nb_accuracy:.4f}\")\n"
   ]
  },
  {
   "cell_type": "markdown",
   "id": "6fb19983-c905-4c05-9b8d-c9849213fe68",
   "metadata": {},
   "source": [
    "**Step 5: Evaluate Models on Test Data**\n",
    "For Regression:\n",
    "\n",
    "Evaluate the Linear Regression model using:\n",
    "Mean Absolute Error (MAE)\n",
    "Mean Squared Error (MSE)\n",
    "R-squared (R²)\n",
    "For Classification:\n",
    "\n",
    "Evaluate each classification model using:\n",
    "Accuracy\n",
    "Precision\n",
    "Recall\n",
    "F1-Score"
   ]
  },
  {
   "cell_type": "code",
   "execution_count": 61,
   "id": "e400046b-4caf-4909-b453-7b55bacb14fe",
   "metadata": {},
   "outputs": [
    {
     "name": "stdout",
     "output_type": "stream",
     "text": [
      "Mean Absolute Error: 0.11499999999999899\n",
      "Mean Squared Error: 0.01444999999999977\n",
      "R-squared: 0.9598611111111117\n"
     ]
    }
   ],
   "source": [
    "from sklearn.linear_model import LinearRegression\n",
    "from sklearn.metrics import mean_absolute_error, mean_squared_error, r2_score\n",
    "from sklearn.model_selection import train_test_split\n",
    "import numpy as np\n",
    "\n",
    "X = np.array([[1], [2], [3], [4], [5], [6]])  \n",
    "y = np.array([1.2, 2.4, 3.1, 4.8, 5.9, 6.5])  \n",
    "\n",
    "X_train, X_test, y_train, y_test = train_test_split(X, y, test_size=0.2, random_state=42)\n",
    "\n",
    "model = LinearRegression()\n",
    "\n",
    "model.fit(X_train, y_train)\n",
    "\n",
    "y_pred = model.predict(X_test)\n",
    "\n",
    "mae = mean_absolute_error(y_test, y_pred)\n",
    "mse = mean_squared_error(y_test, y_pred)\n",
    "r2 = r2_score(y_test, y_pred)\n",
    "\n",
    "print(f\"Mean Absolute Error: {mae}\")\n",
    "print(f\"Mean Squared Error: {mse}\")\n",
    "print(f\"R-squared: {r2}\")\n"
   ]
  },
  {
   "cell_type": "code",
   "execution_count": 63,
   "id": "8d7b6bd8-b488-4644-8965-4690f9f39d2a",
   "metadata": {},
   "outputs": [
    {
     "name": "stdout",
     "output_type": "stream",
     "text": [
      "Accuracy: 0.8\n",
      "Precision: 0.8666666666666666\n",
      "Recall: 0.8\n",
      "F1-Score: 0.8\n",
      "              precision    recall  f1-score   support\n",
      "\n",
      "           0       0.67      1.00      0.80         2\n",
      "           1       1.00      0.67      0.80         3\n",
      "\n",
      "    accuracy                           0.80         5\n",
      "   macro avg       0.83      0.83      0.80         5\n",
      "weighted avg       0.87      0.80      0.80         5\n",
      "\n"
     ]
    }
   ],
   "source": [
    "from sklearn.metrics import accuracy_score, precision_score, recall_score, f1_score, classification_report\n",
    "import numpy as np\n",
    "\n",
    "y_test = np.array([0, 1, 0, 1, 1]) \n",
    "y_pred = np.array([0, 1, 0, 0, 1])  \n",
    "accuracy = accuracy_score(y_test, y_pred)\n",
    "precision = precision_score(y_test, y_pred, average='weighted')\n",
    "recall = recall_score(y_test, y_pred, average='weighted')\n",
    "f1 = f1_score(y_test, y_pred, average='weighted')\n",
    "\n",
    "print(f\"Accuracy: {accuracy}\")\n",
    "print(f\"Precision: {precision}\")\n",
    "print(f\"Recall: {recall}\")\n",
    "print(f\"F1-Score: {f1}\")\n",
    "\n",
    "report = classification_report(y_test, y_pred)\n",
    "print(report)\n"
   ]
  },
  {
   "cell_type": "code",
   "execution_count": null,
   "id": "0a83d82d-16d2-4a08-a7b9-7a9a22528a30",
   "metadata": {},
   "outputs": [],
   "source": []
  }
 ],
 "metadata": {
  "kernelspec": {
   "display_name": "Python 3 (ipykernel)",
   "language": "python",
   "name": "python3"
  },
  "language_info": {
   "codemirror_mode": {
    "name": "ipython",
    "version": 3
   },
   "file_extension": ".py",
   "mimetype": "text/x-python",
   "name": "python",
   "nbconvert_exporter": "python",
   "pygments_lexer": "ipython3",
   "version": "3.13.2"
  }
 },
 "nbformat": 4,
 "nbformat_minor": 5
}
